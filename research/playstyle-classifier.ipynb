{
 "cells": [
  {
   "cell_type": "code",
   "execution_count": 1,
   "metadata": {},
   "outputs": [],
   "source": [
    "import requests\n",
    "import chess.pgn\n",
    "import io\n",
    "url = 'https://lichess.org/api/games/user/DrDrunkenstein?max=100&pgnInJson=TRUE'\n",
    "response = requests.get(url)\n",
    "magnus_pgn = io.StringIO(response.text)"
   ]
  },
  {
   "cell_type": "code",
   "execution_count": 2,
   "metadata": {},
   "outputs": [],
   "source": [
    "url = 'https://lichess.org/api/games/user/C9C9C9C9C9?max=100&pgnInJson=TRUE'\n",
    "response = requests.get(url)\n",
    "penguingm1_pgn = io.StringIO(response.text)"
   ]
  },
  {
   "cell_type": "code",
   "execution_count": 3,
   "metadata": {},
   "outputs": [],
   "source": [
    "url = 'https://lichess.org/api/games/user/Konevlad?max=100&pgnInJson=TRUE'\n",
    "response = requests.get(url)\n",
    "artemiev_pgn = io.StringIO(response.text)"
   ]
  },
  {
   "cell_type": "code",
   "execution_count": 4,
   "metadata": {},
   "outputs": [],
   "source": [
    "url = 'https://lichess.org/api/games/user/alireza2003?max=100&pgnInJson=TRUE'\n",
    "response = requests.get(url)\n",
    "alireza_pgn = io.StringIO(response.text)"
   ]
  },
  {
   "cell_type": "code",
   "execution_count": 5,
   "metadata": {},
   "outputs": [],
   "source": [
    "url = 'https://lichess.org/api/games/user/nihalsarin2004?max=100&pgnInJson=TRUE'\n",
    "response = requests.get(url)\n",
    "nihal_pgn = io.StringIO(response.text)"
   ]
  },
  {
   "cell_type": "code",
   "execution_count": 6,
   "metadata": {},
   "outputs": [],
   "source": [
    "url = 'https://lichess.org/api/games/user/AnishGiri?max=100&pgnInJson=TRUE'\n",
    "response = requests.get(url)\n",
    "anish_pgn = io.StringIO(response.text)"
   ]
  },
  {
   "cell_type": "code",
   "execution_count": 7,
   "metadata": {},
   "outputs": [],
   "source": [
    "url = 'https://lichess.org/api/games/user/Bombegranate?max=100&pgnInJson=TRUE'\n",
    "response = requests.get(url)\n",
    "fabi_pgn = io.StringIO(response.text)"
   ]
  },
  {
   "cell_type": "code",
   "execution_count": 8,
   "metadata": {},
   "outputs": [],
   "source": [
    "url = 'https://lichess.org/api/games/user/Andrey_Esipenko?max=100&pgnInJson=TRUE'\n",
    "response = requests.get(url)\n",
    "esipenko_pgn = io.StringIO(response.text)"
   ]
  },
  {
   "cell_type": "code",
   "execution_count": null,
   "metadata": {},
   "outputs": [],
   "source": [
    "# magnus = 0, penguin = 1, artemiev = 2, alireza = 3, nihal = 4, anish = 5, fabi = 6, esipenko = 7"
   ]
  },
  {
   "cell_type": "code",
   "execution_count": 9,
   "metadata": {},
   "outputs": [],
   "source": [
    "import numpy as np\n",
    "\n",
    "magnus_games = []\n",
    "penguingm1_games = []\n",
    "artemiev_games = []\n",
    "alireza_games = []\n",
    "nihal_games = []\n",
    "anish_games = []\n",
    "fabi_games = []\n",
    "esipenko_games = []\n",
    "\n",
    "for x in range(0, 100):\n",
    "    magnus_games.append(chess.pgn.read_game(magnus_pgn))\n",
    "    penguingm1_games.append(chess.pgn.read_game(penguingm1_pgn))\n",
    "    artemiev_games.append(chess.pgn.read_game(artemiev_pgn))\n",
    "    alireza_games.append(chess.pgn.read_game(alireza_pgn))\n",
    "    nihal_games.append(chess.pgn.read_game(nihal_pgn))\n",
    "    anish_games.append(chess.pgn.read_game(anish_pgn))\n",
    "    fabi_games.append(chess.pgn.read_game(fabi_pgn))\n",
    "    esipenko_games.append(chess.pgn.read_game(esipenko_pgn))\n"
   ]
  },
  {
   "cell_type": "code",
   "execution_count": 109,
   "metadata": {},
   "outputs": [],
   "source": [
    "games = magnus_games + penguingm1_games + artemiev_games + alireza_games + nihal_games + anish_games + fabi_games + esipenko_games"
   ]
  },
  {
   "cell_type": "code",
   "execution_count": 110,
   "metadata": {},
   "outputs": [
    {
     "name": "stdout",
     "output_type": "stream",
     "text": [
      "800\n",
      "[47, 38, 48, 1, 47, 2, 83, 29, 47, 31, 59, 1, 72, 13, 60, 31, 41, 50, 32, 59, 56, 34, 52, 36, 76, 36, 79, 64, 50, 59, 63, 40, 53, 54, 66, 1, 23, 32, 67, 36, 24, 41, 50, 68, 36, 52, 21, 56, 33, 28, 39, 57, 47, 65, 51, 19, 66, 34, 43, 65, 42, 45, 57, 31, 74, 52, 81, 21, 36, 20, 69, 56, 62, 24, 28, 22, 44, 58, 68, 76, 33, 75, 60, 99, 51, 60, 38, 59, 39, 40, 82, 30, 22, 43, 25, 67, 50, 25, 23, 47, 30, 56, 39, 34, 50, 48, 38, 48, 40, 39, 56, 15, 30, 31, 46, 19, 33, 40, 16, 37, 23, 32, 16, 34, 35, 38, 24, 40, 11, 29, 56, 56, 55, 45, 54, 52, 13, 44, 38, 31, 71, 34, 46, 54, 80, 50, 49, 23, 46, 58, 38, 50, 26, 51, 47, 40, 46, 44, 37, 22, 39, 49, 43, 45, 17, 44, 39, 36, 45, 58, 55, 58, 38, 33, 26, 43, 40, 55, 62, 42, 37, 48, 27, 36, 15, 50, 52, 42, 50, 40, 36, 12, 41, 40, 51, 41, 46, 43, 23, 72, 31, 28, 30, 25, 42, 44, 64, 45, 65, 30, 50, 62, 26, 63, 65, 36, 32, 34, 56, 26, 39, 67, 74, 60, 35, 45, 32, 39, 58, 60, 32, 56, 36, 53, 53, 35, 55, 34, 23, 23, 46, 49, 40, 48, 62, 57, 38, 71, 53, 34, 51, 32, 27, 23, 35, 25, 21, 25, 34, 29, 37, 28, 63, 20, 29, 40, 44, 7, 32, 28, 27, 33, 49, 42, 42, 46, 49, 45, 43, 83, 39, 42, 49, 69, 45, 29, 48, 45, 59, 44, 52, 33, 38, 60, 28, 31, 27, 60, 39, 50, 31, 43, 24, 36, 34, 62, 50, 45, 26, 24, 34, 81, 51, 38, 29, 89, 32, 61, 47, 28, 39, 70, 61, 60, 48, 27, 27, 20, 28, 52, 64, 96, 23, 30, 36, 113, 51, 28, 46, 78, 59, 40, 51, 64, 76, 115, 74, 39, 53, 41, 94, 45, 38, 77, 91, 32, 22, 48, 46, 40, 38, 37, 25, 54, 73, 15, 71, 30, 31, 78, 76, 24, 47, 82, 43, 65, 27, 71, 36, 67, 69, 47, 49, 32, 48, 45, 28, 69, 57, 87, 31, 63, 65, 87, 58, 29, 45, 38, 33, 36, 59, 33, 33, 46, 44, 32, 62, 38, 17, 36, 35, 24, 59, 37, 14, 36, 17, 29, 38, 37, 41, 27, 49, 24, 12, 29, 13, 26, 33, 40, 40, 30, 52, 40, 24, 50, 24, 41, 19, 19, 18, 37, 26, 23, 46, 19, 67, 28, 28, 55, 47, 49, 43, 51, 49, 18, 69, 38, 32, 20, 21, 47, 81, 51, 45, 37, 41, 39, 83, 53, 27, 64, 46, 51, 43, 33, 52, 53, 78, 41, 89, 43, 19, 26, 53, 92, 57, 51, 58, 56, 63, 89, 62, 37, 52, 62, 58, 34, 48, 29, 21, 53, 26, 57, 76, 63, 38, 50, 43, 26, 44, 15, 29, 16, 28, 18, 53, 61, 70, 76, 42, 43, 69, 71, 49, 8, 57, 97, 52, 28, 52, 49, 36, 28, 31, 60, 39, 68, 38, 65, 84, 16, 84, 19, 55, 32, 63, 25, 19, 35, 63, 77, 65, 57, 36, 32, 35, 65, 50, 29, 73, 29, 27, 30, 37, 48, 32, 78, 67, 42, 32, 72, 39, 65, 80, 74, 45, 48, 61, 61, 48, 36, 34, 38, 47, 39, 53, 43, 43, 62, 47, 43, 38, 45, 65, 46, 36, 100, 63, 22, 63, 36, 57, 35, 36, 43, 27, 40, 26, 68, 32, 33, 28, 23, 24, 45, 39, 24, 30, 40, 48, 35, 52, 68, 20, 56, 20, 26, 31, 41, 29, 46, 38, 59, 25, 17, 33, 39, 32, 36, 26, 43, 33, 9, 43, 29, 63, 39, 29, 45, 31, 48, 73, 65, 44, 37, 20, 27, 26, 43, 33, 26, 75, 30, 66, 73, 81, 38, 39, 42, 36, 42, 62, 63, 38, 59, 37, 73, 27, 38, 30, 37, 64, 58, 38, 35, 37, 54, 27, 34, 31, 75, 62, 39, 25, 42, 52, 93, 84, 42, 33, 25, 36, 44, 39, 38, 39, 74, 40, 36, 28, 75, 58, 19, 27, 83, 60, 34, 29, 38, 35, 46, 46, 53, 30, 69, 80, 50, 12, 70, 31, 24, 39, 63, 42, 32, 75, 18, 43, 75, 37, 54, 21, 60, 48, 23, 60, 20, 33, 29, 44, 61, 50, 32, 65, 30, 49, 44, 36, 26, 28, 48, 46, 31, 35, 67, 46, 23, 16, 30, 45, 24, 38, 43, 54, 46, 60, 59, 72, 69, 55, 66, 52, 42, 8, 34, 39, 25, 47, 31, 42, 57, 26, 45, 38, 31, 31, 25, 57, 42]\n"
     ]
    },
    {
     "data": {
      "text/plain": [
       "800"
      ]
     },
     "execution_count": 110,
     "metadata": {},
     "output_type": "execute_result"
    }
   ],
   "source": [
    "print(len(games))\n",
    "move_count = [game.end().board().fullmove_number for game in games]\n",
    "print(move_count)\n",
    "len(move_count)"
   ]
  },
  {
   "cell_type": "code",
   "execution_count": 136,
   "metadata": {},
   "outputs": [],
   "source": [
    "result_to_int = {'0-1': 0, '1-0': 1, '1/2-1/2': 0.5}\n",
    "\n",
    "players = [int(x/100) for x in range(0, 800)]\n",
    "opening = [int(game.headers['ECO'][1:]) if game.headers['ECO'] != '?' else 0 for game in games]\n",
    "white_rating_diff = [int(game.headers['WhiteRatingDiff']) if 'WhiteRatingDiff' in game.headers else 0 for game in games]\n",
    "black_rating_diff = [int(game.headers['BlackRatingDiff']) if 'BlackRatingDiff' in game.headers else 0 for game in games]\n",
    "elo_diff = [int(game.headers['WhiteElo']) - int(game.headers['BlackElo']) if 'BlackElo' in game.headers and 'WhiteElo' in game.headers else 0 for game in games]\n",
    "time_control = [int(game.headers['TimeControl'].split('+')[0]) if 'TimeControl' in game.headers else 0 for game in games]\n",
    "result = [result_to_int[game.headers['Result']] for game in games]\n"
   ]
  },
  {
   "cell_type": "code",
   "execution_count": 137,
   "metadata": {},
   "outputs": [
    {
     "data": {
      "text/html": [
       "<div>\n",
       "<style scoped>\n",
       "    .dataframe tbody tr th:only-of-type {\n",
       "        vertical-align: middle;\n",
       "    }\n",
       "\n",
       "    .dataframe tbody tr th {\n",
       "        vertical-align: top;\n",
       "    }\n",
       "\n",
       "    .dataframe thead th {\n",
       "        text-align: right;\n",
       "    }\n",
       "</style>\n",
       "<table border=\"1\" class=\"dataframe\">\n",
       "  <thead>\n",
       "    <tr style=\"text-align: right;\">\n",
       "      <th></th>\n",
       "      <th>move_count</th>\n",
       "      <th>opening</th>\n",
       "      <th>time_control</th>\n",
       "      <th>result</th>\n",
       "      <th>elo_diff</th>\n",
       "      <th>white_rating_diff</th>\n",
       "      <th>black_rating_diff</th>\n",
       "      <th>player-id</th>\n",
       "    </tr>\n",
       "  </thead>\n",
       "  <tbody>\n",
       "    <tr>\n",
       "      <th>0</th>\n",
       "      <td>47</td>\n",
       "      <td>22</td>\n",
       "      <td>60</td>\n",
       "      <td>0.0</td>\n",
       "      <td>-7</td>\n",
       "      <td>-12</td>\n",
       "      <td>11</td>\n",
       "      <td>0</td>\n",
       "    </tr>\n",
       "    <tr>\n",
       "      <th>1</th>\n",
       "      <td>38</td>\n",
       "      <td>25</td>\n",
       "      <td>60</td>\n",
       "      <td>1.0</td>\n",
       "      <td>-294</td>\n",
       "      <td>18</td>\n",
       "      <td>-20</td>\n",
       "      <td>0</td>\n",
       "    </tr>\n",
       "    <tr>\n",
       "      <th>2</th>\n",
       "      <td>48</td>\n",
       "      <td>6</td>\n",
       "      <td>60</td>\n",
       "      <td>0.0</td>\n",
       "      <td>6</td>\n",
       "      <td>-12</td>\n",
       "      <td>12</td>\n",
       "      <td>0</td>\n",
       "    </tr>\n",
       "    <tr>\n",
       "      <th>3</th>\n",
       "      <td>1</td>\n",
       "      <td>0</td>\n",
       "      <td>60</td>\n",
       "      <td>0.0</td>\n",
       "      <td>327</td>\n",
       "      <td>-21</td>\n",
       "      <td>18</td>\n",
       "      <td>0</td>\n",
       "    </tr>\n",
       "    <tr>\n",
       "      <th>4</th>\n",
       "      <td>47</td>\n",
       "      <td>80</td>\n",
       "      <td>60</td>\n",
       "      <td>1.0</td>\n",
       "      <td>-164</td>\n",
       "      <td>11</td>\n",
       "      <td>-18</td>\n",
       "      <td>0</td>\n",
       "    </tr>\n",
       "    <tr>\n",
       "      <th>...</th>\n",
       "      <td>...</td>\n",
       "      <td>...</td>\n",
       "      <td>...</td>\n",
       "      <td>...</td>\n",
       "      <td>...</td>\n",
       "      <td>...</td>\n",
       "      <td>...</td>\n",
       "      <td>...</td>\n",
       "    </tr>\n",
       "    <tr>\n",
       "      <th>795</th>\n",
       "      <td>31</td>\n",
       "      <td>1</td>\n",
       "      <td>60</td>\n",
       "      <td>1.0</td>\n",
       "      <td>67</td>\n",
       "      <td>4</td>\n",
       "      <td>-4</td>\n",
       "      <td>7</td>\n",
       "    </tr>\n",
       "    <tr>\n",
       "      <th>796</th>\n",
       "      <td>31</td>\n",
       "      <td>20</td>\n",
       "      <td>60</td>\n",
       "      <td>0.0</td>\n",
       "      <td>-57</td>\n",
       "      <td>-5</td>\n",
       "      <td>5</td>\n",
       "      <td>7</td>\n",
       "    </tr>\n",
       "    <tr>\n",
       "      <th>797</th>\n",
       "      <td>25</td>\n",
       "      <td>36</td>\n",
       "      <td>60</td>\n",
       "      <td>0.0</td>\n",
       "      <td>71</td>\n",
       "      <td>-7</td>\n",
       "      <td>7</td>\n",
       "      <td>7</td>\n",
       "    </tr>\n",
       "    <tr>\n",
       "      <th>798</th>\n",
       "      <td>57</td>\n",
       "      <td>62</td>\n",
       "      <td>60</td>\n",
       "      <td>1.0</td>\n",
       "      <td>-85</td>\n",
       "      <td>7</td>\n",
       "      <td>-7</td>\n",
       "      <td>7</td>\n",
       "    </tr>\n",
       "    <tr>\n",
       "      <th>799</th>\n",
       "      <td>42</td>\n",
       "      <td>1</td>\n",
       "      <td>60</td>\n",
       "      <td>1.0</td>\n",
       "      <td>75</td>\n",
       "      <td>5</td>\n",
       "      <td>-5</td>\n",
       "      <td>7</td>\n",
       "    </tr>\n",
       "  </tbody>\n",
       "</table>\n",
       "<p>800 rows × 8 columns</p>\n",
       "</div>"
      ],
      "text/plain": [
       "     move_count  opening  time_control  result  elo_diff  white_rating_diff  \\\n",
       "0            47       22            60     0.0        -7                -12   \n",
       "1            38       25            60     1.0      -294                 18   \n",
       "2            48        6            60     0.0         6                -12   \n",
       "3             1        0            60     0.0       327                -21   \n",
       "4            47       80            60     1.0      -164                 11   \n",
       "..          ...      ...           ...     ...       ...                ...   \n",
       "795          31        1            60     1.0        67                  4   \n",
       "796          31       20            60     0.0       -57                 -5   \n",
       "797          25       36            60     0.0        71                 -7   \n",
       "798          57       62            60     1.0       -85                  7   \n",
       "799          42        1            60     1.0        75                  5   \n",
       "\n",
       "     black_rating_diff  player-id  \n",
       "0                   11          0  \n",
       "1                  -20          0  \n",
       "2                   12          0  \n",
       "3                   18          0  \n",
       "4                  -18          0  \n",
       "..                 ...        ...  \n",
       "795                 -4          7  \n",
       "796                  5          7  \n",
       "797                  7          7  \n",
       "798                 -7          7  \n",
       "799                 -5          7  \n",
       "\n",
       "[800 rows x 8 columns]"
      ]
     },
     "execution_count": 137,
     "metadata": {},
     "output_type": "execute_result"
    }
   ],
   "source": [
    "import pandas as pd\n",
    "\n",
    "d = {'move_count': move_count, 'opening': opening, 'time_control': time_control, 'result': result, 'elo_diff': elo_diff,\n",
    "     'white_rating_diff': white_rating_diff, 'black_rating_diff': black_rating_diff, 'player-id': players}\n",
    "df = pd.DataFrame(d)\n",
    "df"
   ]
  },
  {
   "cell_type": "code",
   "execution_count": 92,
   "metadata": {},
   "outputs": [],
   "source": [
    "import numpy as np\n",
    "import pandas as pd\n",
    "\n",
    "import tensorflow as tf\n",
    "\n",
    "from tensorflow import feature_column\n",
    "from tensorflow.keras import layers\n",
    "from sklearn.model_selection import train_test_split"
   ]
  },
  {
   "cell_type": "code",
   "execution_count": 148,
   "metadata": {},
   "outputs": [],
   "source": [
    "#Changing pandas dataframe to numpy array\n",
    "X = df.iloc[:,:7].values\n",
    "y = df.iloc[:,7:8].values"
   ]
  },
  {
   "cell_type": "code",
   "execution_count": 150,
   "metadata": {},
   "outputs": [
    {
     "data": {
      "text/plain": [
       "array([[ 0.15852223, -0.02413367, -0.23843755, ..., -0.06554262,\n",
       "        -1.33319821,  1.342409  ],\n",
       "       [-0.34920021,  0.10150799, -0.23843755, ..., -1.12039933,\n",
       "         1.76996899, -2.28532808],\n",
       "       [ 0.21493583, -0.69422252, -0.23843755, ..., -0.01776166,\n",
       "        -1.33319821,  1.45943277],\n",
       "       ...,\n",
       "       [-1.08257707,  0.56219408, -0.23843755, ...,  0.22114317,\n",
       "        -0.81600367,  0.87431389],\n",
       "       [ 0.72265827,  1.65108846, -0.23843755, ..., -0.35222842,\n",
       "         0.63214102, -0.76401898],\n",
       "       [-0.12354579, -0.90362529, -0.23843755, ...,  0.23584501,\n",
       "         0.4252632 , -0.52997143]])"
      ]
     },
     "execution_count": 150,
     "metadata": {},
     "output_type": "execute_result"
    }
   ],
   "source": [
    "#Normalizing the data\n",
    "from sklearn.preprocessing import StandardScaler\n",
    "sc = StandardScaler()\n",
    "X = sc.fit_transform(X)\n",
    "X"
   ]
  },
  {
   "cell_type": "code",
   "execution_count": 151,
   "metadata": {},
   "outputs": [
    {
     "data": {
      "text/plain": [
       "array([[1., 0., 0., ..., 0., 0., 0.],\n",
       "       [1., 0., 0., ..., 0., 0., 0.],\n",
       "       [1., 0., 0., ..., 0., 0., 0.],\n",
       "       ...,\n",
       "       [0., 0., 0., ..., 0., 0., 1.],\n",
       "       [0., 0., 0., ..., 0., 0., 1.],\n",
       "       [0., 0., 0., ..., 0., 0., 1.]])"
      ]
     },
     "execution_count": 151,
     "metadata": {},
     "output_type": "execute_result"
    }
   ],
   "source": [
    "from sklearn.preprocessing import OneHotEncoder\n",
    "ohe = OneHotEncoder()\n",
    "y = ohe.fit_transform(y).toarray()\n",
    "y"
   ]
  },
  {
   "cell_type": "code",
   "execution_count": 152,
   "metadata": {},
   "outputs": [],
   "source": [
    "from sklearn.model_selection import train_test_split\n",
    "X_train,X_test,y_train,y_test = train_test_split(X,y,test_size = 0.1)"
   ]
  },
  {
   "cell_type": "code",
   "execution_count": 185,
   "metadata": {},
   "outputs": [],
   "source": [
    "#Dependencies\n",
    "from tensorflow.keras.models import Sequential\n",
    "from tensorflow.keras.layers import Dense\n",
    "# Neural network\n",
    "model = Sequential()\n",
    "model.add(Dense(25, input_dim=7, activation='relu'))\n",
    "model.add(Dense(25, activation='relu'))\n",
    "model.add(Dense(8, activation='softmax'))"
   ]
  },
  {
   "cell_type": "code",
   "execution_count": 186,
   "metadata": {},
   "outputs": [],
   "source": [
    "model.compile(loss='categorical_crossentropy', optimizer='adam', metrics=['accuracy'])"
   ]
  },
  {
   "cell_type": "code",
   "execution_count": 187,
   "metadata": {},
   "outputs": [
    {
     "name": "stdout",
     "output_type": "stream",
     "text": [
      "Epoch 1/100\n",
      "12/12 [==============================] - 0s 10ms/step - loss: 2.1581 - accuracy: 0.1056 - val_loss: 2.1295 - val_accuracy: 0.1375\n",
      "Epoch 2/100\n",
      "12/12 [==============================] - 0s 2ms/step - loss: 2.1074 - accuracy: 0.1250 - val_loss: 2.1057 - val_accuracy: 0.1500\n",
      "Epoch 3/100\n",
      "12/12 [==============================] - 0s 3ms/step - loss: 2.0740 - accuracy: 0.1542 - val_loss: 2.0894 - val_accuracy: 0.1375\n",
      "Epoch 4/100\n",
      "12/12 [==============================] - 0s 2ms/step - loss: 2.0485 - accuracy: 0.1736 - val_loss: 2.0728 - val_accuracy: 0.1500\n",
      "Epoch 5/100\n",
      "12/12 [==============================] - 0s 2ms/step - loss: 2.0267 - accuracy: 0.1903 - val_loss: 2.0610 - val_accuracy: 0.1250\n",
      "Epoch 6/100\n",
      "12/12 [==============================] - 0s 2ms/step - loss: 2.0083 - accuracy: 0.2139 - val_loss: 2.0501 - val_accuracy: 0.1375\n",
      "Epoch 7/100\n",
      "12/12 [==============================] - 0s 2ms/step - loss: 1.9890 - accuracy: 0.2431 - val_loss: 2.0392 - val_accuracy: 0.1875\n",
      "Epoch 8/100\n",
      "12/12 [==============================] - 0s 2ms/step - loss: 1.9707 - accuracy: 0.2708 - val_loss: 2.0247 - val_accuracy: 0.2250\n",
      "Epoch 9/100\n",
      "12/12 [==============================] - 0s 2ms/step - loss: 1.9516 - accuracy: 0.2847 - val_loss: 2.0081 - val_accuracy: 0.2375\n",
      "Epoch 10/100\n",
      "12/12 [==============================] - 0s 2ms/step - loss: 1.9310 - accuracy: 0.3111 - val_loss: 1.9866 - val_accuracy: 0.2125\n",
      "Epoch 11/100\n",
      "12/12 [==============================] - 0s 2ms/step - loss: 1.9072 - accuracy: 0.3292 - val_loss: 1.9632 - val_accuracy: 0.2250\n",
      "Epoch 12/100\n",
      "12/12 [==============================] - 0s 2ms/step - loss: 1.8821 - accuracy: 0.3417 - val_loss: 1.9408 - val_accuracy: 0.2250\n",
      "Epoch 13/100\n",
      "12/12 [==============================] - 0s 2ms/step - loss: 1.8552 - accuracy: 0.3500 - val_loss: 1.9200 - val_accuracy: 0.2250\n",
      "Epoch 14/100\n",
      "12/12 [==============================] - 0s 2ms/step - loss: 1.8261 - accuracy: 0.3486 - val_loss: 1.8941 - val_accuracy: 0.2625\n",
      "Epoch 15/100\n",
      "12/12 [==============================] - 0s 2ms/step - loss: 1.7953 - accuracy: 0.3569 - val_loss: 1.8626 - val_accuracy: 0.2500\n",
      "Epoch 16/100\n",
      "12/12 [==============================] - 0s 2ms/step - loss: 1.7649 - accuracy: 0.3736 - val_loss: 1.8320 - val_accuracy: 0.2625\n",
      "Epoch 17/100\n",
      "12/12 [==============================] - 0s 2ms/step - loss: 1.7325 - accuracy: 0.4056 - val_loss: 1.8051 - val_accuracy: 0.2625\n",
      "Epoch 18/100\n",
      "12/12 [==============================] - 0s 3ms/step - loss: 1.6998 - accuracy: 0.4181 - val_loss: 1.7714 - val_accuracy: 0.2750\n",
      "Epoch 19/100\n",
      "12/12 [==============================] - 0s 3ms/step - loss: 1.6663 - accuracy: 0.4319 - val_loss: 1.7446 - val_accuracy: 0.2625\n",
      "Epoch 20/100\n",
      "12/12 [==============================] - 0s 3ms/step - loss: 1.6332 - accuracy: 0.4514 - val_loss: 1.7180 - val_accuracy: 0.3000\n",
      "Epoch 21/100\n",
      "12/12 [==============================] - 0s 3ms/step - loss: 1.5997 - accuracy: 0.4708 - val_loss: 1.6903 - val_accuracy: 0.3250\n",
      "Epoch 22/100\n",
      "12/12 [==============================] - 0s 3ms/step - loss: 1.5671 - accuracy: 0.4861 - val_loss: 1.6614 - val_accuracy: 0.3625\n",
      "Epoch 23/100\n",
      "12/12 [==============================] - 0s 2ms/step - loss: 1.5359 - accuracy: 0.4931 - val_loss: 1.6332 - val_accuracy: 0.3750\n",
      "Epoch 24/100\n",
      "12/12 [==============================] - 0s 3ms/step - loss: 1.5052 - accuracy: 0.5028 - val_loss: 1.6052 - val_accuracy: 0.3625\n",
      "Epoch 25/100\n",
      "12/12 [==============================] - 0s 3ms/step - loss: 1.4756 - accuracy: 0.5125 - val_loss: 1.5801 - val_accuracy: 0.3875\n",
      "Epoch 26/100\n",
      "12/12 [==============================] - 0s 3ms/step - loss: 1.4462 - accuracy: 0.5333 - val_loss: 1.5467 - val_accuracy: 0.3750\n",
      "Epoch 27/100\n",
      "12/12 [==============================] - 0s 3ms/step - loss: 1.4208 - accuracy: 0.5444 - val_loss: 1.5265 - val_accuracy: 0.3875\n",
      "Epoch 28/100\n",
      "12/12 [==============================] - 0s 2ms/step - loss: 1.3933 - accuracy: 0.5417 - val_loss: 1.5080 - val_accuracy: 0.3875\n",
      "Epoch 29/100\n",
      "12/12 [==============================] - 0s 3ms/step - loss: 1.3670 - accuracy: 0.5514 - val_loss: 1.4714 - val_accuracy: 0.4000\n",
      "Epoch 30/100\n",
      "12/12 [==============================] - 0s 2ms/step - loss: 1.3420 - accuracy: 0.5625 - val_loss: 1.4544 - val_accuracy: 0.4500\n",
      "Epoch 31/100\n",
      "12/12 [==============================] - 0s 2ms/step - loss: 1.3165 - accuracy: 0.5722 - val_loss: 1.4215 - val_accuracy: 0.4500\n",
      "Epoch 32/100\n",
      "12/12 [==============================] - 0s 3ms/step - loss: 1.2922 - accuracy: 0.5833 - val_loss: 1.3956 - val_accuracy: 0.4375\n",
      "Epoch 33/100\n",
      "12/12 [==============================] - 0s 2ms/step - loss: 1.2701 - accuracy: 0.5931 - val_loss: 1.3720 - val_accuracy: 0.4500\n",
      "Epoch 34/100\n",
      "12/12 [==============================] - 0s 2ms/step - loss: 1.2487 - accuracy: 0.5944 - val_loss: 1.3485 - val_accuracy: 0.4625\n",
      "Epoch 35/100\n",
      "12/12 [==============================] - 0s 3ms/step - loss: 1.2274 - accuracy: 0.6028 - val_loss: 1.3262 - val_accuracy: 0.4750\n",
      "Epoch 36/100\n",
      "12/12 [==============================] - 0s 3ms/step - loss: 1.2076 - accuracy: 0.6222 - val_loss: 1.3005 - val_accuracy: 0.4750\n",
      "Epoch 37/100\n",
      "12/12 [==============================] - 0s 2ms/step - loss: 1.1888 - accuracy: 0.6167 - val_loss: 1.2736 - val_accuracy: 0.4625\n",
      "Epoch 38/100\n",
      "12/12 [==============================] - 0s 2ms/step - loss: 1.1700 - accuracy: 0.6236 - val_loss: 1.2681 - val_accuracy: 0.4750\n",
      "Epoch 39/100\n",
      "12/12 [==============================] - 0s 2ms/step - loss: 1.1539 - accuracy: 0.6292 - val_loss: 1.2559 - val_accuracy: 0.4875\n",
      "Epoch 40/100\n",
      "12/12 [==============================] - 0s 2ms/step - loss: 1.1342 - accuracy: 0.6389 - val_loss: 1.2202 - val_accuracy: 0.4875\n",
      "Epoch 41/100\n",
      "12/12 [==============================] - 0s 2ms/step - loss: 1.1186 - accuracy: 0.6472 - val_loss: 1.2054 - val_accuracy: 0.5125\n",
      "Epoch 42/100\n",
      "12/12 [==============================] - 0s 2ms/step - loss: 1.1032 - accuracy: 0.6389 - val_loss: 1.1984 - val_accuracy: 0.5000\n",
      "Epoch 43/100\n",
      "12/12 [==============================] - 0s 2ms/step - loss: 1.0900 - accuracy: 0.6347 - val_loss: 1.1781 - val_accuracy: 0.5375\n",
      "Epoch 44/100\n",
      "12/12 [==============================] - 0s 3ms/step - loss: 1.0758 - accuracy: 0.6514 - val_loss: 1.1652 - val_accuracy: 0.5000\n",
      "Epoch 45/100\n",
      "12/12 [==============================] - 0s 2ms/step - loss: 1.0633 - accuracy: 0.6458 - val_loss: 1.1510 - val_accuracy: 0.5250\n",
      "Epoch 46/100\n",
      "12/12 [==============================] - 0s 2ms/step - loss: 1.0512 - accuracy: 0.6514 - val_loss: 1.1295 - val_accuracy: 0.5250\n",
      "Epoch 47/100\n",
      "12/12 [==============================] - 0s 3ms/step - loss: 1.0376 - accuracy: 0.6486 - val_loss: 1.1160 - val_accuracy: 0.5125\n",
      "Epoch 48/100\n",
      "12/12 [==============================] - 0s 2ms/step - loss: 1.0292 - accuracy: 0.6514 - val_loss: 1.1144 - val_accuracy: 0.5250\n",
      "Epoch 49/100\n",
      "12/12 [==============================] - 0s 2ms/step - loss: 1.0202 - accuracy: 0.6528 - val_loss: 1.1017 - val_accuracy: 0.5250\n",
      "Epoch 50/100\n",
      "12/12 [==============================] - 0s 2ms/step - loss: 1.0054 - accuracy: 0.6611 - val_loss: 1.0876 - val_accuracy: 0.5250\n",
      "Epoch 51/100\n",
      "12/12 [==============================] - 0s 2ms/step - loss: 0.9958 - accuracy: 0.6611 - val_loss: 1.0761 - val_accuracy: 0.5375\n",
      "Epoch 52/100\n",
      "12/12 [==============================] - 0s 2ms/step - loss: 0.9864 - accuracy: 0.6653 - val_loss: 1.0667 - val_accuracy: 0.5625\n",
      "Epoch 53/100\n",
      "12/12 [==============================] - 0s 2ms/step - loss: 0.9767 - accuracy: 0.6722 - val_loss: 1.0575 - val_accuracy: 0.5375\n",
      "Epoch 54/100\n",
      "12/12 [==============================] - 0s 2ms/step - loss: 0.9689 - accuracy: 0.6639 - val_loss: 1.0493 - val_accuracy: 0.5500\n",
      "Epoch 55/100\n",
      "12/12 [==============================] - 0s 2ms/step - loss: 0.9615 - accuracy: 0.6653 - val_loss: 1.0546 - val_accuracy: 0.5375\n",
      "Epoch 56/100\n",
      "12/12 [==============================] - 0s 2ms/step - loss: 0.9523 - accuracy: 0.6708 - val_loss: 1.0319 - val_accuracy: 0.5750\n",
      "Epoch 57/100\n",
      "12/12 [==============================] - 0s 2ms/step - loss: 0.9466 - accuracy: 0.6722 - val_loss: 1.0264 - val_accuracy: 0.5750\n",
      "Epoch 58/100\n",
      "12/12 [==============================] - 0s 2ms/step - loss: 0.9381 - accuracy: 0.6778 - val_loss: 1.0250 - val_accuracy: 0.5375\n"
     ]
    },
    {
     "name": "stdout",
     "output_type": "stream",
     "text": [
      "Epoch 59/100\n",
      "12/12 [==============================] - 0s 2ms/step - loss: 0.9307 - accuracy: 0.6750 - val_loss: 1.0078 - val_accuracy: 0.5625\n",
      "Epoch 60/100\n",
      "12/12 [==============================] - 0s 2ms/step - loss: 0.9245 - accuracy: 0.6750 - val_loss: 1.0056 - val_accuracy: 0.5375\n",
      "Epoch 61/100\n",
      "12/12 [==============================] - 0s 2ms/step - loss: 0.9167 - accuracy: 0.6806 - val_loss: 0.9940 - val_accuracy: 0.5500\n",
      "Epoch 62/100\n",
      "12/12 [==============================] - 0s 2ms/step - loss: 0.9109 - accuracy: 0.6806 - val_loss: 0.9848 - val_accuracy: 0.5500\n",
      "Epoch 63/100\n",
      "12/12 [==============================] - 0s 2ms/step - loss: 0.9034 - accuracy: 0.6833 - val_loss: 0.9792 - val_accuracy: 0.5750\n",
      "Epoch 64/100\n",
      "12/12 [==============================] - 0s 3ms/step - loss: 0.8982 - accuracy: 0.6819 - val_loss: 0.9696 - val_accuracy: 0.5875\n",
      "Epoch 65/100\n",
      "12/12 [==============================] - 0s 2ms/step - loss: 0.8917 - accuracy: 0.6903 - val_loss: 0.9646 - val_accuracy: 0.5875\n",
      "Epoch 66/100\n",
      "12/12 [==============================] - 0s 2ms/step - loss: 0.8850 - accuracy: 0.6847 - val_loss: 0.9515 - val_accuracy: 0.5875\n",
      "Epoch 67/100\n",
      "12/12 [==============================] - 0s 2ms/step - loss: 0.8785 - accuracy: 0.6875 - val_loss: 0.9611 - val_accuracy: 0.5625\n",
      "Epoch 68/100\n",
      "12/12 [==============================] - 0s 2ms/step - loss: 0.8735 - accuracy: 0.6903 - val_loss: 0.9487 - val_accuracy: 0.5875\n",
      "Epoch 69/100\n",
      "12/12 [==============================] - 0s 3ms/step - loss: 0.8699 - accuracy: 0.6861 - val_loss: 0.9347 - val_accuracy: 0.6000\n",
      "Epoch 70/100\n",
      "12/12 [==============================] - 0s 2ms/step - loss: 0.8625 - accuracy: 0.6931 - val_loss: 0.9351 - val_accuracy: 0.5750\n",
      "Epoch 71/100\n",
      "12/12 [==============================] - 0s 2ms/step - loss: 0.8570 - accuracy: 0.6889 - val_loss: 0.9294 - val_accuracy: 0.5875\n",
      "Epoch 72/100\n",
      "12/12 [==============================] - 0s 2ms/step - loss: 0.8560 - accuracy: 0.6819 - val_loss: 0.9245 - val_accuracy: 0.5875\n",
      "Epoch 73/100\n",
      "12/12 [==============================] - 0s 2ms/step - loss: 0.8481 - accuracy: 0.6792 - val_loss: 0.9272 - val_accuracy: 0.5625\n",
      "Epoch 74/100\n",
      "12/12 [==============================] - 0s 2ms/step - loss: 0.8448 - accuracy: 0.6847 - val_loss: 0.9077 - val_accuracy: 0.5875\n",
      "Epoch 75/100\n",
      "12/12 [==============================] - 0s 2ms/step - loss: 0.8392 - accuracy: 0.6875 - val_loss: 0.8948 - val_accuracy: 0.6000\n",
      "Epoch 76/100\n",
      "12/12 [==============================] - 0s 2ms/step - loss: 0.8328 - accuracy: 0.6917 - val_loss: 0.8967 - val_accuracy: 0.6000\n",
      "Epoch 77/100\n",
      "12/12 [==============================] - 0s 2ms/step - loss: 0.8280 - accuracy: 0.6903 - val_loss: 0.8984 - val_accuracy: 0.5875\n",
      "Epoch 78/100\n",
      "12/12 [==============================] - 0s 2ms/step - loss: 0.8237 - accuracy: 0.6875 - val_loss: 0.8874 - val_accuracy: 0.5875\n",
      "Epoch 79/100\n",
      "12/12 [==============================] - 0s 2ms/step - loss: 0.8192 - accuracy: 0.6903 - val_loss: 0.8816 - val_accuracy: 0.6000\n",
      "Epoch 80/100\n",
      "12/12 [==============================] - 0s 3ms/step - loss: 0.8164 - accuracy: 0.6903 - val_loss: 0.8923 - val_accuracy: 0.5875\n",
      "Epoch 81/100\n",
      "12/12 [==============================] - 0s 2ms/step - loss: 0.8127 - accuracy: 0.6972 - val_loss: 0.8858 - val_accuracy: 0.5625\n",
      "Epoch 82/100\n",
      "12/12 [==============================] - 0s 2ms/step - loss: 0.8059 - accuracy: 0.7014 - val_loss: 0.8723 - val_accuracy: 0.5750\n",
      "Epoch 83/100\n",
      "12/12 [==============================] - 0s 2ms/step - loss: 0.8044 - accuracy: 0.7028 - val_loss: 0.8705 - val_accuracy: 0.5875\n",
      "Epoch 84/100\n",
      "12/12 [==============================] - 0s 2ms/step - loss: 0.8015 - accuracy: 0.7028 - val_loss: 0.8681 - val_accuracy: 0.5875\n",
      "Epoch 85/100\n",
      "12/12 [==============================] - 0s 2ms/step - loss: 0.7938 - accuracy: 0.7042 - val_loss: 0.8681 - val_accuracy: 0.5750\n",
      "Epoch 86/100\n",
      "12/12 [==============================] - 0s 2ms/step - loss: 0.7937 - accuracy: 0.6986 - val_loss: 0.8718 - val_accuracy: 0.5625\n",
      "Epoch 87/100\n",
      "12/12 [==============================] - 0s 2ms/step - loss: 0.7868 - accuracy: 0.6958 - val_loss: 0.8523 - val_accuracy: 0.5875\n",
      "Epoch 88/100\n",
      "12/12 [==============================] - 0s 2ms/step - loss: 0.7845 - accuracy: 0.6931 - val_loss: 0.8478 - val_accuracy: 0.5875\n",
      "Epoch 89/100\n",
      "12/12 [==============================] - 0s 2ms/step - loss: 0.7798 - accuracy: 0.7000 - val_loss: 0.8464 - val_accuracy: 0.5875\n",
      "Epoch 90/100\n",
      "12/12 [==============================] - 0s 2ms/step - loss: 0.7775 - accuracy: 0.6944 - val_loss: 0.8414 - val_accuracy: 0.6000\n",
      "Epoch 91/100\n",
      "12/12 [==============================] - 0s 2ms/step - loss: 0.7754 - accuracy: 0.6986 - val_loss: 0.8427 - val_accuracy: 0.5750\n",
      "Epoch 92/100\n",
      "12/12 [==============================] - 0s 3ms/step - loss: 0.7705 - accuracy: 0.7000 - val_loss: 0.8510 - val_accuracy: 0.6000\n",
      "Epoch 93/100\n",
      "12/12 [==============================] - 0s 2ms/step - loss: 0.7668 - accuracy: 0.7056 - val_loss: 0.8398 - val_accuracy: 0.5750\n",
      "Epoch 94/100\n",
      "12/12 [==============================] - 0s 2ms/step - loss: 0.7626 - accuracy: 0.7111 - val_loss: 0.8388 - val_accuracy: 0.5750\n",
      "Epoch 95/100\n",
      "12/12 [==============================] - 0s 2ms/step - loss: 0.7619 - accuracy: 0.7028 - val_loss: 0.8372 - val_accuracy: 0.6250\n",
      "Epoch 96/100\n",
      "12/12 [==============================] - 0s 2ms/step - loss: 0.7579 - accuracy: 0.7042 - val_loss: 0.8338 - val_accuracy: 0.6000\n",
      "Epoch 97/100\n",
      "12/12 [==============================] - 0s 2ms/step - loss: 0.7538 - accuracy: 0.7111 - val_loss: 0.8378 - val_accuracy: 0.5875\n",
      "Epoch 98/100\n",
      "12/12 [==============================] - 0s 2ms/step - loss: 0.7514 - accuracy: 0.7139 - val_loss: 0.8322 - val_accuracy: 0.5875\n",
      "Epoch 99/100\n",
      "12/12 [==============================] - 0s 3ms/step - loss: 0.7507 - accuracy: 0.7083 - val_loss: 0.8255 - val_accuracy: 0.6250\n",
      "Epoch 100/100\n",
      "12/12 [==============================] - 0s 2ms/step - loss: 0.7445 - accuracy: 0.7194 - val_loss: 0.8284 - val_accuracy: 0.6000\n"
     ]
    }
   ],
   "source": [
    "history = model.fit(X_train, y_train, validation_data = (X_test,y_test), epochs=100, batch_size=64)"
   ]
  },
  {
   "cell_type": "code",
   "execution_count": 188,
   "metadata": {},
   "outputs": [
    {
     "name": "stdout",
     "output_type": "stream",
     "text": [
      "Accuracy is: 60.0\n"
     ]
    },
    {
     "data": {
      "text/plain": [
       "<tensorflow.python.keras.engine.sequential.Sequential at 0x1df7ff25390>"
      ]
     },
     "execution_count": 188,
     "metadata": {},
     "output_type": "execute_result"
    }
   ],
   "source": [
    "y_pred = model.predict(X_test)\n",
    "#Converting predictions to label\n",
    "pred = list()\n",
    "for i in range(len(y_pred)):\n",
    "    pred.append(np.argmax(y_pred[i]))\n",
    "#Converting one hot encoded test label to label\n",
    "test = list()\n",
    "for i in range(len(y_test)):\n",
    "    test.append(np.argmax(y_test[i]))\n",
    "    \n",
    "from sklearn.metrics import accuracy_score\n",
    "a = accuracy_score(pred,test)\n",
    "print('Accuracy is:', a*100)\n",
    "model"
   ]
  },
  {
   "cell_type": "code",
   "execution_count": 189,
   "metadata": {},
   "outputs": [
    {
     "data": {
      "image/png": "[encoded data removed]",
      "text/plain": [
       "<Figure size 432x288 with 1 Axes>"
      ]
     },
     "metadata": {
      "needs_background": "light"
     },
     "output_type": "display_data"
    }
   ],
   "source": [
    "import matplotlib.pyplot as plt\n",
    "plt.plot(history.history['accuracy'])\n",
    "plt.plot(history.history['val_accuracy'])\n",
    "plt.title('Model accuracy')\n",
    "plt.ylabel('Accuracy')\n",
    "plt.xlabel('Epoch')\n",
    "plt.legend(['Train', 'Test'], loc='upper left')\n",
    "plt.show()"
   ]
  },
  {
   "cell_type": "code",
   "execution_count": 190,
   "metadata": {},
   "outputs": [
    {
     "data": {
      "image/png": "[encoded data removed]",
      "text/plain": [
       "<Figure size 432x288 with 1 Axes>"
      ]
     },
     "metadata": {
      "needs_background": "light"
     },
     "output_type": "display_data"
    }
   ],
   "source": [
    "plt.plot(history.history['loss'])\n",
    "plt.plot(history.history['val_loss']) \n",
    "plt.title('Model loss') \n",
    "plt.ylabel('Loss') \n",
    "plt.xlabel('Epoch') \n",
    "plt.legend(['Train', 'Test'], loc='upper left') \n",
    "plt.show()"
   ]
  },
  {
   "cell_type": "code",
   "execution_count": 142,
   "metadata": {},
   "outputs": [
    {
     "name": "stdout",
     "output_type": "stream",
     "text": [
      "640 train examples\n",
      "160 validation examples\n",
      "160 test examples\n"
     ]
    }
   ],
   "source": [
    "# train, test = train_test_split(df, test_size=0.2)\n",
    "# train, val = train_test_split(df, test_size=0.2)\n",
    "# print(len(train), 'train examples')\n",
    "# print(len(val), 'validation examples')\n",
    "# print(len(test), 'test examples')"
   ]
  },
  {
   "cell_type": "code",
   "execution_count": 143,
   "metadata": {},
   "outputs": [],
   "source": [
    "# def df_to_dataset(dataframe, shuffle=True, batch_size=32):\n",
    "#     dataframe = dataframe.copy()\n",
    "#     labels = dataframe.pop('player-id')\n",
    "#     ds = tf.data.Dataset.from_tensor_slices((dict(dataframe), labels))\n",
    "#     if shuffle:\n",
    "#         ds = ds.shuffle(buffer_size=len(dataframe))\n",
    "#     ds = ds.batch(batch_size)\n",
    "#     return ds\n",
    "\n",
    "# batch_size = 5 # A small batch sized is used for demonstration purposes\n",
    "# train_ds = df_to_dataset(train, batch_size=batch_size)\n",
    "# val_ds = df_to_dataset(val, shuffle=False, batch_size=batch_size)\n",
    "# test_ds = df_to_dataset(test, shuffle=False, batch_size=batch_size)"
   ]
  },
  {
   "cell_type": "code",
   "execution_count": 192,
   "metadata": {},
   "outputs": [],
   "source": [
    "# serialize to JSON\n",
    "json_file = model.to_json()\n",
    "with open('./neuralnet.json', \"w\") as file:\n",
    "    file.write(json_file)\n",
    "# serialize weights to HDF5\n",
    "model.save_weights('./model.h5')"
   ]
  },
  {
   "cell_type": "code",
   "execution_count": 194,
   "metadata": {},
   "outputs": [],
   "source": [
    "from tensorflow.keras.models import model_from_json\n",
    "# load json and create model\n",
    "file = open('./neuralnet.json', 'r')\n",
    "model_json = file.read()\n",
    "file.close()\n",
    "loaded_model = model_from_json(model_json)\n",
    "# load weights\n",
    "loaded_model.load_weights('./model.h5')"
   ]
  },
  {
   "cell_type": "code",
   "execution_count": 195,
   "metadata": {},
   "outputs": [
    {
     "name": "stdout",
     "output_type": "stream",
     "text": [
      "Accuracy is: 60.0\n"
     ]
    },
    {
     "data": {
      "text/plain": [
       "<tensorflow.python.keras.engine.sequential.Sequential at 0x1df7ff25390>"
      ]
     },
     "execution_count": 195,
     "metadata": {},
     "output_type": "execute_result"
    }
   ],
   "source": [
    "y_pred = loaded_model.predict(X_test)\n",
    "#Converting predictions to label\n",
    "pred = list()\n",
    "for i in range(len(y_pred)):\n",
    "    pred.append(np.argmax(y_pred[i]))\n",
    "#Converting one hot encoded test label to label\n",
    "test = list()\n",
    "for i in range(len(y_test)):\n",
    "    test.append(np.argmax(y_test[i]))\n",
    "    \n",
    "from sklearn.metrics import accuracy_score\n",
    "a = accuracy_score(pred,test)\n",
    "print('Accuracy is:', a*100)\n",
    "model"
   ]
  },
  {
   "cell_type": "code",
   "execution_count": 219,
   "metadata": {},
   "outputs": [
    {
     "name": "stdout",
     "output_type": "stream",
     "text": [
      "[2]\n"
     ]
    }
   ],
   "source": [
    "input_data = [[-1,2,3,1,0,0,20]]\n",
    "predictions = model.predict(input_data)\n",
    "print(np.argmax(predictions, axis=1))"
   ]
  }
 ],
 "metadata": {
  "kernelspec": {
   "display_name": "Python 3.7.3 64-bit ('venv')",
   "language": "python",
   "name": "python37364bitvenv86eeb27c8372422c95c97ddbaf64658a"
  },
  "language_info": {
   "codemirror_mode": {
    "name": "ipython",
    "version": 3
   },
   "file_extension": ".py",
   "mimetype": "text/x-python",
   "name": "python",
   "nbconvert_exporter": "python",
   "pygments_lexer": "ipython3",
   "version": "3.7.3"
  }
 },
 "nbformat": 4,
 "nbformat_minor": 4
}
