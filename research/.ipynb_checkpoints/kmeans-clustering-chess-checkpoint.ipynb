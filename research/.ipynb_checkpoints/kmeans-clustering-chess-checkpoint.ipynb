{
 "cells": [
  {
   "cell_type": "code",
   "execution_count": 1,
   "metadata": {},
   "outputs": [],
   "source": [
    "import json\n",
    "import numpy as np\n",
    "import pandas as pd\n",
    "from sklearn.model_selection import train_test_split\n",
    "from sklearn.preprocessing import LabelEncoder\n",
    "from sklearn.cluster import KMeans\n",
    "import joblib"
   ]
  },
  {
   "cell_type": "code",
   "execution_count": 9,
   "metadata": {},
   "outputs": [
    {
     "data": {
      "text/html": [
       "<div>\n",
       "<style scoped>\n",
       "    .dataframe tbody tr th:only-of-type {\n",
       "        vertical-align: middle;\n",
       "    }\n",
       "\n",
       "    .dataframe tbody tr th {\n",
       "        vertical-align: top;\n",
       "    }\n",
       "\n",
       "    .dataframe thead th {\n",
       "        text-align: right;\n",
       "    }\n",
       "</style>\n",
       "<table border=\"1\" class=\"dataframe\">\n",
       "  <thead>\n",
       "    <tr style=\"text-align: right;\">\n",
       "      <th></th>\n",
       "      <th>rated</th>\n",
       "      <th>turns</th>\n",
       "      <th>victory_status</th>\n",
       "      <th>winner</th>\n",
       "      <th>increment_code</th>\n",
       "      <th>white_rating</th>\n",
       "      <th>black_rating</th>\n",
       "      <th>opening_eco</th>\n",
       "      <th>opening_ply</th>\n",
       "    </tr>\n",
       "  </thead>\n",
       "  <tbody>\n",
       "    <tr>\n",
       "      <th>0</th>\n",
       "      <td>False</td>\n",
       "      <td>13</td>\n",
       "      <td>outoftime</td>\n",
       "      <td>white</td>\n",
       "      <td>15+2</td>\n",
       "      <td>1500</td>\n",
       "      <td>1191</td>\n",
       "      <td>D10</td>\n",
       "      <td>5</td>\n",
       "    </tr>\n",
       "    <tr>\n",
       "      <th>1</th>\n",
       "      <td>True</td>\n",
       "      <td>16</td>\n",
       "      <td>resign</td>\n",
       "      <td>black</td>\n",
       "      <td>5+10</td>\n",
       "      <td>1322</td>\n",
       "      <td>1261</td>\n",
       "      <td>B00</td>\n",
       "      <td>4</td>\n",
       "    </tr>\n",
       "    <tr>\n",
       "      <th>2</th>\n",
       "      <td>True</td>\n",
       "      <td>61</td>\n",
       "      <td>mate</td>\n",
       "      <td>white</td>\n",
       "      <td>5+10</td>\n",
       "      <td>1496</td>\n",
       "      <td>1500</td>\n",
       "      <td>C20</td>\n",
       "      <td>3</td>\n",
       "    </tr>\n",
       "    <tr>\n",
       "      <th>3</th>\n",
       "      <td>True</td>\n",
       "      <td>61</td>\n",
       "      <td>mate</td>\n",
       "      <td>white</td>\n",
       "      <td>20+0</td>\n",
       "      <td>1439</td>\n",
       "      <td>1454</td>\n",
       "      <td>D02</td>\n",
       "      <td>3</td>\n",
       "    </tr>\n",
       "    <tr>\n",
       "      <th>4</th>\n",
       "      <td>True</td>\n",
       "      <td>95</td>\n",
       "      <td>mate</td>\n",
       "      <td>white</td>\n",
       "      <td>30+3</td>\n",
       "      <td>1523</td>\n",
       "      <td>1469</td>\n",
       "      <td>C41</td>\n",
       "      <td>5</td>\n",
       "    </tr>\n",
       "  </tbody>\n",
       "</table>\n",
       "</div>"
      ],
      "text/plain": [
       "   rated  turns victory_status winner increment_code  white_rating  \\\n",
       "0  False     13      outoftime  white           15+2          1500   \n",
       "1   True     16         resign  black           5+10          1322   \n",
       "2   True     61           mate  white           5+10          1496   \n",
       "3   True     61           mate  white           20+0          1439   \n",
       "4   True     95           mate  white           30+3          1523   \n",
       "\n",
       "   black_rating opening_eco  opening_ply  \n",
       "0          1191         D10            5  \n",
       "1          1261         B00            4  \n",
       "2          1500         C20            3  \n",
       "3          1454         D02            3  \n",
       "4          1469         C41            5  "
      ]
     },
     "execution_count": 9,
     "metadata": {},
     "output_type": "execute_result"
    }
   ],
   "source": [
    "df = pd.read_csv('games.csv')\n",
    "df = df[['rated', 'turns', 'victory_status', 'winner', 'increment_code', 'white_rating', 'black_rating', 'opening_eco', 'opening_ply']]\n",
    "df.head()"
   ]
  },
  {
   "cell_type": "code",
   "execution_count": 10,
   "metadata": {},
   "outputs": [
    {
     "name": "stdout",
     "output_type": "stream",
     "text": [
      "       rated  turns  victory_status  winner  increment_code  white_rating  \\\n",
      "0          0     13               2       2             110          1500   \n",
      "1          1     16               3       0             298          1322   \n",
      "2          1     61               1       2             298          1496   \n",
      "3          1     61               1       2             187          1439   \n",
      "4          1     95               1       2             247          1523   \n",
      "...      ...    ...             ...     ...             ...           ...   \n",
      "20053      1     24               3       2              21          1691   \n",
      "20054      1     82               1       0              19          1233   \n",
      "20055      1     35               1       2              19          1219   \n",
      "20056      1    109               3       2              19          1360   \n",
      "20057      1     78               1       0              19          1235   \n",
      "\n",
      "       black_rating  opening_eco  opening_ply  \n",
      "0              1191          248            5  \n",
      "1              1261           71            4  \n",
      "2              1500          171            3  \n",
      "3              1454          241            3  \n",
      "4              1469          192            5  \n",
      "...             ...          ...          ...  \n",
      "20053          1220           61            2  \n",
      "20054          1196           37            2  \n",
      "20055          1286          239            3  \n",
      "20056          1227           78            4  \n",
      "20057          1339          239            3  \n",
      "\n",
      "[20058 rows x 9 columns]\n"
     ]
    }
   ],
   "source": [
    "encoders = {}\n",
    "for column in ['rated', 'victory_status', 'winner',\n",
    "                'increment_code', 'opening_eco']:\n",
    "    categorical_convert = LabelEncoder()\n",
    "    df[column] = categorical_convert.fit_transform(df[column])\n",
    "    encoders[column] = categorical_convert\n",
    "\n",
    "print(df)"
   ]
  },
  {
   "cell_type": "code",
   "execution_count": 18,
   "metadata": {},
   "outputs": [
    {
     "name": "stdout",
     "output_type": "stream",
     "text": [
      "[[7.97252433e-01 6.17790498e+01 2.15706926e+00 1.04659416e+00\n",
      "  1.24254837e+02 1.60661408e+03 1.59529914e+03 1.43745507e+02\n",
      "  4.78637665e+00]\n",
      " [8.21392533e-01 6.71697275e+01 2.32088799e+00 1.02623613e+00\n",
      "  1.19997376e+02 1.94933522e+03 1.94428597e+03 1.41709788e+02\n",
      "  5.95963673e+00]\n",
      " [8.04177136e-01 5.34486495e+01 2.00753769e+00 1.05606156e+00\n",
      "  1.29540986e+02 1.30849749e+03 1.30337893e+03 1.34303235e+02\n",
      "  3.96984925e+00]]\n",
      "[2 2 0 ... 2 2 2]\n"
     ]
    }
   ],
   "source": [
    "km = KMeans(n_clusters=3, init='random', n_init=10, max_iter=300, tol=1e-04, random_state=0)\n",
    "y_km = km.fit_predict(df)\n",
    "print(km.cluster_centers_)\n",
    "print(y_km)"
   ]
  },
  {
   "cell_type": "code",
   "execution_count": null,
   "metadata": {},
   "outputs": [],
   "source": []
  }
 ],
 "metadata": {
  "kernelspec": {
   "display_name": "Python 3",
   "language": "python",
   "name": "python3"
  },
  "language_info": {
   "codemirror_mode": {
    "name": "ipython",
    "version": 3
   },
   "file_extension": ".py",
   "mimetype": "text/x-python",
   "name": "python",
   "nbconvert_exporter": "python",
   "pygments_lexer": "ipython3",
   "version": "3.7.3"
  }
 },
 "nbformat": 4,
 "nbformat_minor": 4
}
